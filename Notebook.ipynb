{
 "cells": [
  {
   "cell_type": "markdown",
   "metadata": {
    "slideshow": {
     "slide_type": "slide"
    }
   },
   "source": [
    "# Solving Crimes with Data Science\n",
    "<br/>\n",
    "<br/>\n",
    "<br/>\n",
    "<br/>\n",
    "<br/>\n",
    "<b>Markus Harrer</b>\n",
    "  \n",
    "`@feststelltaste`\n",
    "\n",
    "\n",
    "<small>PyDay 1, 19. Dezember 2019</small>\n",
    "\n",
    "<img src=\"resources/innoq_logo.jpg\" width=20% height=\"20%\" align=\"right\"/>\n"
   ]
  },
  {
   "cell_type": "markdown",
   "metadata": {
    "slideshow": {
     "slide_type": "slide"
    }
   },
   "source": [
    "## Facts of the case\n",
    "1. A white mini bus with a red \"g\" sign on the side window was stolen\n",
    "1. Police did an innovative mobile phone investigation\n",
    "1. There is only phone number of unknown identity left\n",
    "\n",
    "Our approach: Where is the place of residence of the phone number's owner?"
   ]
  },
  {
   "cell_type": "markdown",
   "metadata": {
    "slideshow": {
     "slide_type": "slide"
    }
   },
   "source": [
    "## What do we have?\n",
    "\n",
    "CDRs (Call Data Records) in an Excel file!\n",
    "\n",
    "That means: Information about the cell towers used for the phone calls!\n",
    "\n"
   ]
  },
  {
   "cell_type": "markdown",
   "metadata": {
    "slideshow": {
     "slide_type": "slide"
    }
   },
   "source": [
    "## Import and Load\n",
    "Using pandas to read an Excel file into a Dataframe."
   ]
  },
  {
   "cell_type": "code",
   "execution_count": 1,
   "metadata": {
    "slideshow": {
     "slide_type": "-"
    }
   },
   "outputs": [
    {
     "data": {
      "text/html": [
       "<div>\n",
       "<style scoped>\n",
       "    .dataframe tbody tr th:only-of-type {\n",
       "        vertical-align: middle;\n",
       "    }\n",
       "\n",
       "    .dataframe tbody tr th {\n",
       "        vertical-align: top;\n",
       "    }\n",
       "\n",
       "    .dataframe thead th {\n",
       "        text-align: right;\n",
       "    }\n",
       "</style>\n",
       "<table border=\"1\" class=\"dataframe\">\n",
       "  <thead>\n",
       "    <tr style=\"text-align: right;\">\n",
       "      <th></th>\n",
       "      <th>Caller</th>\n",
       "      <th>Callee</th>\n",
       "      <th>Event</th>\n",
       "      <th>Start</th>\n",
       "      <th>TowerID</th>\n",
       "    </tr>\n",
       "  </thead>\n",
       "  <tbody>\n",
       "    <tr>\n",
       "      <th>0</th>\n",
       "      <td>4638472273</td>\n",
       "      <td>2666307251</td>\n",
       "      <td>Incoming</td>\n",
       "      <td>2010-12-25 07:16:24.736813</td>\n",
       "      <td>0db53dd3</td>\n",
       "    </tr>\n",
       "    <tr>\n",
       "      <th>1</th>\n",
       "      <td>4638472273</td>\n",
       "      <td>1755442610</td>\n",
       "      <td>Incoming</td>\n",
       "      <td>2010-12-25 21:18:30.053710</td>\n",
       "      <td>aeaf8b43</td>\n",
       "    </tr>\n",
       "    <tr>\n",
       "      <th>2</th>\n",
       "      <td>4638472273</td>\n",
       "      <td>5481755331</td>\n",
       "      <td>Incoming</td>\n",
       "      <td>2010-12-25 14:52:42.878016</td>\n",
       "      <td>fadaa83f</td>\n",
       "    </tr>\n",
       "    <tr>\n",
       "      <th>3</th>\n",
       "      <td>4638472273</td>\n",
       "      <td>1755442610</td>\n",
       "      <td>Incoming</td>\n",
       "      <td>2010-12-25 16:02:09.001913</td>\n",
       "      <td>fadaa83f</td>\n",
       "    </tr>\n",
       "    <tr>\n",
       "      <th>4</th>\n",
       "      <td>4638472273</td>\n",
       "      <td>2145623768</td>\n",
       "      <td>Incoming</td>\n",
       "      <td>2010-12-25 15:28:35.028554</td>\n",
       "      <td>95d7920d</td>\n",
       "    </tr>\n",
       "  </tbody>\n",
       "</table>\n",
       "</div>"
      ],
      "text/plain": [
       "       Caller      Callee     Event                       Start   TowerID\n",
       "0  4638472273  2666307251  Incoming  2010-12-25 07:16:24.736813  0db53dd3\n",
       "1  4638472273  1755442610  Incoming  2010-12-25 21:18:30.053710  aeaf8b43\n",
       "2  4638472273  5481755331  Incoming  2010-12-25 14:52:42.878016  fadaa83f\n",
       "3  4638472273  1755442610  Incoming  2010-12-25 16:02:09.001913  fadaa83f\n",
       "4  4638472273  2145623768  Incoming  2010-12-25 15:28:35.028554  95d7920d"
      ]
     },
     "execution_count": 1,
     "metadata": {},
     "output_type": "execute_result"
    }
   ],
   "source": [
    "import pandas as pd\n",
    "cdr = pd.read_excel(\"cdr_data.xlsx\")\n",
    "cdr.head()"
   ]
  },
  {
   "cell_type": "markdown",
   "metadata": {
    "slideshow": {
     "slide_type": "slide"
    }
   },
   "source": [
    "Let's look into the dataset"
   ]
  },
  {
   "cell_type": "code",
   "execution_count": 2,
   "metadata": {
    "slideshow": {
     "slide_type": "-"
    }
   },
   "outputs": [
    {
     "name": "stdout",
     "output_type": "stream",
     "text": [
      "<class 'pandas.core.frame.DataFrame'>\n",
      "RangeIndex: 53185 entries, 0 to 53184\n",
      "Data columns (total 5 columns):\n",
      "Caller     53185 non-null int64\n",
      "Callee     53185 non-null int64\n",
      "Event      53185 non-null object\n",
      "Start      53185 non-null object\n",
      "TowerID    53185 non-null object\n",
      "dtypes: int64(2), object(3)\n",
      "memory usage: 2.0+ MB\n"
     ]
    }
   ],
   "source": [
    "cdr.info()"
   ]
  },
  {
   "cell_type": "markdown",
   "metadata": {
    "slideshow": {
     "slide_type": "slide"
    }
   },
   "source": [
    "## Data Cleaning\n",
    "Convert the text in `Start` to a date data type"
   ]
  },
  {
   "cell_type": "code",
   "execution_count": 3,
   "metadata": {
    "slideshow": {
     "slide_type": "-"
    }
   },
   "outputs": [
    {
     "data": {
      "text/html": [
       "<div>\n",
       "<style scoped>\n",
       "    .dataframe tbody tr th:only-of-type {\n",
       "        vertical-align: middle;\n",
       "    }\n",
       "\n",
       "    .dataframe tbody tr th {\n",
       "        vertical-align: top;\n",
       "    }\n",
       "\n",
       "    .dataframe thead th {\n",
       "        text-align: right;\n",
       "    }\n",
       "</style>\n",
       "<table border=\"1\" class=\"dataframe\">\n",
       "  <thead>\n",
       "    <tr style=\"text-align: right;\">\n",
       "      <th></th>\n",
       "      <th>Caller</th>\n",
       "      <th>Callee</th>\n",
       "      <th>Event</th>\n",
       "      <th>Start</th>\n",
       "      <th>TowerID</th>\n",
       "    </tr>\n",
       "  </thead>\n",
       "  <tbody>\n",
       "    <tr>\n",
       "      <th>0</th>\n",
       "      <td>4638472273</td>\n",
       "      <td>2666307251</td>\n",
       "      <td>Incoming</td>\n",
       "      <td>2010-12-25 07:16:24.736813</td>\n",
       "      <td>0db53dd3</td>\n",
       "    </tr>\n",
       "    <tr>\n",
       "      <th>1</th>\n",
       "      <td>4638472273</td>\n",
       "      <td>1755442610</td>\n",
       "      <td>Incoming</td>\n",
       "      <td>2010-12-25 21:18:30.053710</td>\n",
       "      <td>aeaf8b43</td>\n",
       "    </tr>\n",
       "    <tr>\n",
       "      <th>2</th>\n",
       "      <td>4638472273</td>\n",
       "      <td>5481755331</td>\n",
       "      <td>Incoming</td>\n",
       "      <td>2010-12-25 14:52:42.878016</td>\n",
       "      <td>fadaa83f</td>\n",
       "    </tr>\n",
       "    <tr>\n",
       "      <th>3</th>\n",
       "      <td>4638472273</td>\n",
       "      <td>1755442610</td>\n",
       "      <td>Incoming</td>\n",
       "      <td>2010-12-25 16:02:09.001913</td>\n",
       "      <td>fadaa83f</td>\n",
       "    </tr>\n",
       "    <tr>\n",
       "      <th>4</th>\n",
       "      <td>4638472273</td>\n",
       "      <td>2145623768</td>\n",
       "      <td>Incoming</td>\n",
       "      <td>2010-12-25 15:28:35.028554</td>\n",
       "      <td>95d7920d</td>\n",
       "    </tr>\n",
       "  </tbody>\n",
       "</table>\n",
       "</div>"
      ],
      "text/plain": [
       "       Caller      Callee     Event                      Start   TowerID\n",
       "0  4638472273  2666307251  Incoming 2010-12-25 07:16:24.736813  0db53dd3\n",
       "1  4638472273  1755442610  Incoming 2010-12-25 21:18:30.053710  aeaf8b43\n",
       "2  4638472273  5481755331  Incoming 2010-12-25 14:52:42.878016  fadaa83f\n",
       "3  4638472273  1755442610  Incoming 2010-12-25 16:02:09.001913  fadaa83f\n",
       "4  4638472273  2145623768  Incoming 2010-12-25 15:28:35.028554  95d7920d"
      ]
     },
     "execution_count": 3,
     "metadata": {},
     "output_type": "execute_result"
    }
   ],
   "source": [
    "cdr['Start'] = pd.to_datetime(cdr['Start'])\n",
    "cdr.head()"
   ]
  },
  {
   "cell_type": "markdown",
   "metadata": {
    "slideshow": {
     "slide_type": "slide"
    }
   },
   "source": [
    "## Filtering\n",
    "We know the suspect's phone number (4638472273). We also want to only keep the incoming calls (== `Caller`'s `TowerID`)."
   ]
  },
  {
   "cell_type": "code",
   "execution_count": 4,
   "metadata": {
    "slideshow": {
     "slide_type": "-"
    }
   },
   "outputs": [
    {
     "data": {
      "text/html": [
       "<div>\n",
       "<style scoped>\n",
       "    .dataframe tbody tr th:only-of-type {\n",
       "        vertical-align: middle;\n",
       "    }\n",
       "\n",
       "    .dataframe tbody tr th {\n",
       "        vertical-align: top;\n",
       "    }\n",
       "\n",
       "    .dataframe thead th {\n",
       "        text-align: right;\n",
       "    }\n",
       "</style>\n",
       "<table border=\"1\" class=\"dataframe\">\n",
       "  <thead>\n",
       "    <tr style=\"text-align: right;\">\n",
       "      <th></th>\n",
       "      <th>Caller</th>\n",
       "      <th>Callee</th>\n",
       "      <th>Event</th>\n",
       "      <th>Start</th>\n",
       "      <th>TowerID</th>\n",
       "    </tr>\n",
       "  </thead>\n",
       "  <tbody>\n",
       "    <tr>\n",
       "      <th>0</th>\n",
       "      <td>4638472273</td>\n",
       "      <td>2666307251</td>\n",
       "      <td>Incoming</td>\n",
       "      <td>2010-12-25 07:16:24.736813</td>\n",
       "      <td>0db53dd3</td>\n",
       "    </tr>\n",
       "    <tr>\n",
       "      <th>1</th>\n",
       "      <td>4638472273</td>\n",
       "      <td>1755442610</td>\n",
       "      <td>Incoming</td>\n",
       "      <td>2010-12-25 21:18:30.053710</td>\n",
       "      <td>aeaf8b43</td>\n",
       "    </tr>\n",
       "    <tr>\n",
       "      <th>2</th>\n",
       "      <td>4638472273</td>\n",
       "      <td>5481755331</td>\n",
       "      <td>Incoming</td>\n",
       "      <td>2010-12-25 14:52:42.878016</td>\n",
       "      <td>fadaa83f</td>\n",
       "    </tr>\n",
       "    <tr>\n",
       "      <th>3</th>\n",
       "      <td>4638472273</td>\n",
       "      <td>1755442610</td>\n",
       "      <td>Incoming</td>\n",
       "      <td>2010-12-25 16:02:09.001913</td>\n",
       "      <td>fadaa83f</td>\n",
       "    </tr>\n",
       "    <tr>\n",
       "      <th>4</th>\n",
       "      <td>4638472273</td>\n",
       "      <td>2145623768</td>\n",
       "      <td>Incoming</td>\n",
       "      <td>2010-12-25 15:28:35.028554</td>\n",
       "      <td>95d7920d</td>\n",
       "    </tr>\n",
       "  </tbody>\n",
       "</table>\n",
       "</div>"
      ],
      "text/plain": [
       "       Caller      Callee     Event                      Start   TowerID\n",
       "0  4638472273  2666307251  Incoming 2010-12-25 07:16:24.736813  0db53dd3\n",
       "1  4638472273  1755442610  Incoming 2010-12-25 21:18:30.053710  aeaf8b43\n",
       "2  4638472273  5481755331  Incoming 2010-12-25 14:52:42.878016  fadaa83f\n",
       "3  4638472273  1755442610  Incoming 2010-12-25 16:02:09.001913  fadaa83f\n",
       "4  4638472273  2145623768  Incoming 2010-12-25 15:28:35.028554  95d7920d"
      ]
     },
     "execution_count": 4,
     "metadata": {},
     "output_type": "execute_result"
    }
   ],
   "source": [
    "suspect = cdr[cdr['Caller'] == 4638472273]\n",
    "suspect = suspect[suspect['Event'] == 'Incoming']\n",
    "suspect.head()"
   ]
  },
  {
   "cell_type": "markdown",
   "metadata": {
    "slideshow": {
     "slide_type": "slide"
    }
   },
   "source": [
    "## But...\n",
    "\n",
    "Unfortunately: Information about the tower's locations are missing!\n",
    "\n",
    "We need a second data source from the DARKNET!"
   ]
  },
  {
   "cell_type": "markdown",
   "metadata": {
    "slideshow": {
     "slide_type": "slide"
    }
   },
   "source": [
    "## Load another dataset\n",
    "This time: a CSV (comma separated values) file"
   ]
  },
  {
   "cell_type": "code",
   "execution_count": 5,
   "metadata": {
    "slideshow": {
     "slide_type": "-"
    }
   },
   "outputs": [
    {
     "data": {
      "text/html": [
       "<div>\n",
       "<style scoped>\n",
       "    .dataframe tbody tr th:only-of-type {\n",
       "        vertical-align: middle;\n",
       "    }\n",
       "\n",
       "    .dataframe tbody tr th {\n",
       "        vertical-align: top;\n",
       "    }\n",
       "\n",
       "    .dataframe thead th {\n",
       "        text-align: right;\n",
       "    }\n",
       "</style>\n",
       "<table border=\"1\" class=\"dataframe\">\n",
       "  <thead>\n",
       "    <tr style=\"text-align: right;\">\n",
       "      <th></th>\n",
       "      <th>TowerLat</th>\n",
       "      <th>TowerLon</th>\n",
       "    </tr>\n",
       "    <tr>\n",
       "      <th>TowerID</th>\n",
       "      <th></th>\n",
       "      <th></th>\n",
       "    </tr>\n",
       "  </thead>\n",
       "  <tbody>\n",
       "    <tr>\n",
       "      <th>0db53dd3</th>\n",
       "      <td>32.731611</td>\n",
       "      <td>-96.709417</td>\n",
       "    </tr>\n",
       "    <tr>\n",
       "      <th>aeaf8b43</th>\n",
       "      <td>32.731722</td>\n",
       "      <td>-96.709500</td>\n",
       "    </tr>\n",
       "    <tr>\n",
       "      <th>fadaa83f</th>\n",
       "      <td>32.899944</td>\n",
       "      <td>-96.910389</td>\n",
       "    </tr>\n",
       "    <tr>\n",
       "      <th>95d7920d</th>\n",
       "      <td>32.899944</td>\n",
       "      <td>-96.910389</td>\n",
       "    </tr>\n",
       "    <tr>\n",
       "      <th>95c91e8b</th>\n",
       "      <td>32.899944</td>\n",
       "      <td>-96.910389</td>\n",
       "    </tr>\n",
       "  </tbody>\n",
       "</table>\n",
       "</div>"
      ],
      "text/plain": [
       "           TowerLat   TowerLon\n",
       "TowerID                       \n",
       "0db53dd3  32.731611 -96.709417\n",
       "aeaf8b43  32.731722 -96.709500\n",
       "fadaa83f  32.899944 -96.910389\n",
       "95d7920d  32.899944 -96.910389\n",
       "95c91e8b  32.899944 -96.910389"
      ]
     },
     "execution_count": 5,
     "metadata": {},
     "output_type": "execute_result"
    }
   ],
   "source": [
    "towers = pd.read_csv(\n",
    "    \"darknet.io/hacks/infrastructure/mobile_net/texas_towers.csv\",\n",
    "    index_col=0)\n",
    "towers.head()"
   ]
  },
  {
   "cell_type": "markdown",
   "metadata": {
    "slideshow": {
     "slide_type": "slide"
    }
   },
   "source": [
    "## Data Enrichment\n",
    "Bringing datasets together by joining them"
   ]
  },
  {
   "cell_type": "code",
   "execution_count": 6,
   "metadata": {
    "slideshow": {
     "slide_type": "-"
    }
   },
   "outputs": [
    {
     "data": {
      "text/html": [
       "<div>\n",
       "<style scoped>\n",
       "    .dataframe tbody tr th:only-of-type {\n",
       "        vertical-align: middle;\n",
       "    }\n",
       "\n",
       "    .dataframe tbody tr th {\n",
       "        vertical-align: top;\n",
       "    }\n",
       "\n",
       "    .dataframe thead th {\n",
       "        text-align: right;\n",
       "    }\n",
       "</style>\n",
       "<table border=\"1\" class=\"dataframe\">\n",
       "  <thead>\n",
       "    <tr style=\"text-align: right;\">\n",
       "      <th></th>\n",
       "      <th>Caller</th>\n",
       "      <th>Callee</th>\n",
       "      <th>Event</th>\n",
       "      <th>Start</th>\n",
       "      <th>TowerID</th>\n",
       "      <th>TowerLat</th>\n",
       "      <th>TowerLon</th>\n",
       "    </tr>\n",
       "  </thead>\n",
       "  <tbody>\n",
       "    <tr>\n",
       "      <th>0</th>\n",
       "      <td>4638472273</td>\n",
       "      <td>2666307251</td>\n",
       "      <td>Incoming</td>\n",
       "      <td>2010-12-25 07:16:24.736813</td>\n",
       "      <td>0db53dd3</td>\n",
       "      <td>32.731611</td>\n",
       "      <td>-96.709417</td>\n",
       "    </tr>\n",
       "    <tr>\n",
       "      <th>1</th>\n",
       "      <td>4638472273</td>\n",
       "      <td>1755442610</td>\n",
       "      <td>Incoming</td>\n",
       "      <td>2010-12-25 21:18:30.053710</td>\n",
       "      <td>aeaf8b43</td>\n",
       "      <td>32.731722</td>\n",
       "      <td>-96.709500</td>\n",
       "    </tr>\n",
       "    <tr>\n",
       "      <th>2</th>\n",
       "      <td>4638472273</td>\n",
       "      <td>5481755331</td>\n",
       "      <td>Incoming</td>\n",
       "      <td>2010-12-25 14:52:42.878016</td>\n",
       "      <td>fadaa83f</td>\n",
       "      <td>32.899944</td>\n",
       "      <td>-96.910389</td>\n",
       "    </tr>\n",
       "    <tr>\n",
       "      <th>3</th>\n",
       "      <td>4638472273</td>\n",
       "      <td>1755442610</td>\n",
       "      <td>Incoming</td>\n",
       "      <td>2010-12-25 16:02:09.001913</td>\n",
       "      <td>fadaa83f</td>\n",
       "      <td>32.899944</td>\n",
       "      <td>-96.910389</td>\n",
       "    </tr>\n",
       "    <tr>\n",
       "      <th>4</th>\n",
       "      <td>4638472273</td>\n",
       "      <td>2145623768</td>\n",
       "      <td>Incoming</td>\n",
       "      <td>2010-12-25 15:28:35.028554</td>\n",
       "      <td>95d7920d</td>\n",
       "      <td>32.899944</td>\n",
       "      <td>-96.910389</td>\n",
       "    </tr>\n",
       "  </tbody>\n",
       "</table>\n",
       "</div>"
      ],
      "text/plain": [
       "       Caller      Callee     Event                      Start   TowerID  \\\n",
       "0  4638472273  2666307251  Incoming 2010-12-25 07:16:24.736813  0db53dd3   \n",
       "1  4638472273  1755442610  Incoming 2010-12-25 21:18:30.053710  aeaf8b43   \n",
       "2  4638472273  5481755331  Incoming 2010-12-25 14:52:42.878016  fadaa83f   \n",
       "3  4638472273  1755442610  Incoming 2010-12-25 16:02:09.001913  fadaa83f   \n",
       "4  4638472273  2145623768  Incoming 2010-12-25 15:28:35.028554  95d7920d   \n",
       "\n",
       "    TowerLat   TowerLon  \n",
       "0  32.731611 -96.709417  \n",
       "1  32.731722 -96.709500  \n",
       "2  32.899944 -96.910389  \n",
       "3  32.899944 -96.910389  \n",
       "4  32.899944 -96.910389  "
      ]
     },
     "execution_count": 6,
     "metadata": {},
     "output_type": "execute_result"
    }
   ],
   "source": [
    "suspect_loc = suspect.join(towers, on='TowerID')\n",
    "suspect_loc.head()"
   ]
  },
  {
   "cell_type": "markdown",
   "metadata": {
    "slideshow": {
     "slide_type": "slide"
    }
   },
   "source": [
    "## Explore the datapoints\n",
    "Let's take a look at the locations"
   ]
  },
  {
   "cell_type": "code",
   "execution_count": 7,
   "metadata": {
    "slideshow": {
     "slide_type": "-"
    }
   },
   "outputs": [
    {
     "data": {
      "image/png": "[encoded data removed]",
      "text/plain": [
       "<Figure size 432x288 with 1 Axes>"
      ]
     },
     "metadata": {
      "image/png": {
       "height": 263,
       "width": 400
      },
      "needs_background": "light"
     },
     "output_type": "display_data"
    }
   ],
   "source": [
    "suspect_loc.plot.scatter('TowerLon', \"TowerLat\");"
   ]
  },
  {
   "cell_type": "markdown",
   "metadata": {
    "slideshow": {
     "slide_type": "slide"
    }
   },
   "source": [
    "## Modeling\n",
    "Make some hypothesis about the suspect's home"
   ]
  },
  {
   "cell_type": "markdown",
   "metadata": {
    "slideshow": {
     "slide_type": "slide"
    }
   },
   "source": [
    "#### Hypothesis 1: Home at weekends"
   ]
  },
  {
   "cell_type": "code",
   "execution_count": 8,
   "metadata": {
    "slideshow": {
     "slide_type": "-"
    }
   },
   "outputs": [
    {
     "data": {
      "text/html": [
       "<div>\n",
       "<style scoped>\n",
       "    .dataframe tbody tr th:only-of-type {\n",
       "        vertical-align: middle;\n",
       "    }\n",
       "\n",
       "    .dataframe tbody tr th {\n",
       "        vertical-align: top;\n",
       "    }\n",
       "\n",
       "    .dataframe thead th {\n",
       "        text-align: right;\n",
       "    }\n",
       "</style>\n",
       "<table border=\"1\" class=\"dataframe\">\n",
       "  <thead>\n",
       "    <tr style=\"text-align: right;\">\n",
       "      <th></th>\n",
       "      <th>Caller</th>\n",
       "      <th>Callee</th>\n",
       "      <th>Event</th>\n",
       "      <th>Start</th>\n",
       "      <th>TowerID</th>\n",
       "      <th>TowerLat</th>\n",
       "      <th>TowerLon</th>\n",
       "      <th>DoW</th>\n",
       "    </tr>\n",
       "  </thead>\n",
       "  <tbody>\n",
       "    <tr>\n",
       "      <th>0</th>\n",
       "      <td>4638472273</td>\n",
       "      <td>2666307251</td>\n",
       "      <td>Incoming</td>\n",
       "      <td>2010-12-25 07:16:24.736813</td>\n",
       "      <td>0db53dd3</td>\n",
       "      <td>32.731611</td>\n",
       "      <td>-96.709417</td>\n",
       "      <td>Saturday</td>\n",
       "    </tr>\n",
       "    <tr>\n",
       "      <th>1</th>\n",
       "      <td>4638472273</td>\n",
       "      <td>1755442610</td>\n",
       "      <td>Incoming</td>\n",
       "      <td>2010-12-25 21:18:30.053710</td>\n",
       "      <td>aeaf8b43</td>\n",
       "      <td>32.731722</td>\n",
       "      <td>-96.709500</td>\n",
       "      <td>Saturday</td>\n",
       "    </tr>\n",
       "    <tr>\n",
       "      <th>2</th>\n",
       "      <td>4638472273</td>\n",
       "      <td>5481755331</td>\n",
       "      <td>Incoming</td>\n",
       "      <td>2010-12-25 14:52:42.878016</td>\n",
       "      <td>fadaa83f</td>\n",
       "      <td>32.899944</td>\n",
       "      <td>-96.910389</td>\n",
       "      <td>Saturday</td>\n",
       "    </tr>\n",
       "    <tr>\n",
       "      <th>3</th>\n",
       "      <td>4638472273</td>\n",
       "      <td>1755442610</td>\n",
       "      <td>Incoming</td>\n",
       "      <td>2010-12-25 16:02:09.001913</td>\n",
       "      <td>fadaa83f</td>\n",
       "      <td>32.899944</td>\n",
       "      <td>-96.910389</td>\n",
       "      <td>Saturday</td>\n",
       "    </tr>\n",
       "    <tr>\n",
       "      <th>4</th>\n",
       "      <td>4638472273</td>\n",
       "      <td>2145623768</td>\n",
       "      <td>Incoming</td>\n",
       "      <td>2010-12-25 15:28:35.028554</td>\n",
       "      <td>95d7920d</td>\n",
       "      <td>32.899944</td>\n",
       "      <td>-96.910389</td>\n",
       "      <td>Saturday</td>\n",
       "    </tr>\n",
       "  </tbody>\n",
       "</table>\n",
       "</div>"
      ],
      "text/plain": [
       "       Caller      Callee     Event                      Start   TowerID  \\\n",
       "0  4638472273  2666307251  Incoming 2010-12-25 07:16:24.736813  0db53dd3   \n",
       "1  4638472273  1755442610  Incoming 2010-12-25 21:18:30.053710  aeaf8b43   \n",
       "2  4638472273  5481755331  Incoming 2010-12-25 14:52:42.878016  fadaa83f   \n",
       "3  4638472273  1755442610  Incoming 2010-12-25 16:02:09.001913  fadaa83f   \n",
       "4  4638472273  2145623768  Incoming 2010-12-25 15:28:35.028554  95d7920d   \n",
       "\n",
       "    TowerLat   TowerLon       DoW  \n",
       "0  32.731611 -96.709417  Saturday  \n",
       "1  32.731722 -96.709500  Saturday  \n",
       "2  32.899944 -96.910389  Saturday  \n",
       "3  32.899944 -96.910389  Saturday  \n",
       "4  32.899944 -96.910389  Saturday  "
      ]
     },
     "execution_count": 8,
     "metadata": {},
     "output_type": "execute_result"
    }
   ],
   "source": [
    "suspect_loc['DoW'] = suspect_loc['Start'].dt.weekday_name\n",
    "suspect_loc.head()"
   ]
  },
  {
   "cell_type": "code",
   "execution_count": 9,
   "metadata": {
    "slideshow": {
     "slide_type": "slide"
    }
   },
   "outputs": [
    {
     "data": {
      "text/html": [
       "<div>\n",
       "<style scoped>\n",
       "    .dataframe tbody tr th:only-of-type {\n",
       "        vertical-align: middle;\n",
       "    }\n",
       "\n",
       "    .dataframe tbody tr th {\n",
       "        vertical-align: top;\n",
       "    }\n",
       "\n",
       "    .dataframe thead th {\n",
       "        text-align: right;\n",
       "    }\n",
       "</style>\n",
       "<table border=\"1\" class=\"dataframe\">\n",
       "  <thead>\n",
       "    <tr style=\"text-align: right;\">\n",
       "      <th></th>\n",
       "      <th>Caller</th>\n",
       "      <th>Callee</th>\n",
       "      <th>Event</th>\n",
       "      <th>Start</th>\n",
       "      <th>TowerID</th>\n",
       "      <th>TowerLat</th>\n",
       "      <th>TowerLon</th>\n",
       "      <th>DoW</th>\n",
       "    </tr>\n",
       "  </thead>\n",
       "  <tbody>\n",
       "    <tr>\n",
       "      <th>0</th>\n",
       "      <td>4638472273</td>\n",
       "      <td>2666307251</td>\n",
       "      <td>Incoming</td>\n",
       "      <td>2010-12-25 07:16:24.736813</td>\n",
       "      <td>0db53dd3</td>\n",
       "      <td>32.731611</td>\n",
       "      <td>-96.709417</td>\n",
       "      <td>Saturday</td>\n",
       "    </tr>\n",
       "    <tr>\n",
       "      <th>1</th>\n",
       "      <td>4638472273</td>\n",
       "      <td>1755442610</td>\n",
       "      <td>Incoming</td>\n",
       "      <td>2010-12-25 21:18:30.053710</td>\n",
       "      <td>aeaf8b43</td>\n",
       "      <td>32.731722</td>\n",
       "      <td>-96.709500</td>\n",
       "      <td>Saturday</td>\n",
       "    </tr>\n",
       "    <tr>\n",
       "      <th>2</th>\n",
       "      <td>4638472273</td>\n",
       "      <td>5481755331</td>\n",
       "      <td>Incoming</td>\n",
       "      <td>2010-12-25 14:52:42.878016</td>\n",
       "      <td>fadaa83f</td>\n",
       "      <td>32.899944</td>\n",
       "      <td>-96.910389</td>\n",
       "      <td>Saturday</td>\n",
       "    </tr>\n",
       "    <tr>\n",
       "      <th>3</th>\n",
       "      <td>4638472273</td>\n",
       "      <td>1755442610</td>\n",
       "      <td>Incoming</td>\n",
       "      <td>2010-12-25 16:02:09.001913</td>\n",
       "      <td>fadaa83f</td>\n",
       "      <td>32.899944</td>\n",
       "      <td>-96.910389</td>\n",
       "      <td>Saturday</td>\n",
       "    </tr>\n",
       "    <tr>\n",
       "      <th>4</th>\n",
       "      <td>4638472273</td>\n",
       "      <td>2145623768</td>\n",
       "      <td>Incoming</td>\n",
       "      <td>2010-12-25 15:28:35.028554</td>\n",
       "      <td>95d7920d</td>\n",
       "      <td>32.899944</td>\n",
       "      <td>-96.910389</td>\n",
       "      <td>Saturday</td>\n",
       "    </tr>\n",
       "  </tbody>\n",
       "</table>\n",
       "</div>"
      ],
      "text/plain": [
       "       Caller      Callee     Event                      Start   TowerID  \\\n",
       "0  4638472273  2666307251  Incoming 2010-12-25 07:16:24.736813  0db53dd3   \n",
       "1  4638472273  1755442610  Incoming 2010-12-25 21:18:30.053710  aeaf8b43   \n",
       "2  4638472273  5481755331  Incoming 2010-12-25 14:52:42.878016  fadaa83f   \n",
       "3  4638472273  1755442610  Incoming 2010-12-25 16:02:09.001913  fadaa83f   \n",
       "4  4638472273  2145623768  Incoming 2010-12-25 15:28:35.028554  95d7920d   \n",
       "\n",
       "    TowerLat   TowerLon       DoW  \n",
       "0  32.731611 -96.709417  Saturday  \n",
       "1  32.731722 -96.709500  Saturday  \n",
       "2  32.899944 -96.910389  Saturday  \n",
       "3  32.899944 -96.910389  Saturday  \n",
       "4  32.899944 -96.910389  Saturday  "
      ]
     },
     "execution_count": 9,
     "metadata": {},
     "output_type": "execute_result"
    }
   ],
   "source": [
    "suspect_on_weekend = suspect_loc[suspect_loc['DoW'].isin(['Saturday', 'Sunday'])].copy()\n",
    "suspect_on_weekend.head()"
   ]
  },
  {
   "cell_type": "markdown",
   "metadata": {
    "slideshow": {
     "slide_type": "slide"
    }
   },
   "source": [
    "Let's take a look at the weekend's locations"
   ]
  },
  {
   "cell_type": "code",
   "execution_count": 10,
   "metadata": {
    "slideshow": {
     "slide_type": "-"
    }
   },
   "outputs": [
    {
     "data": {
      "image/png": "[encoded data removed]",
      "text/plain": [
       "<Figure size 432x288 with 1 Axes>"
      ]
     },
     "metadata": {
      "image/png": {
       "height": 263,
       "width": 400
      },
      "needs_background": "light"
     },
     "output_type": "display_data"
    }
   ],
   "source": [
    "suspect_on_weekend.plot.scatter('TowerLon', \"TowerLat\");"
   ]
  },
  {
   "cell_type": "markdown",
   "metadata": {
    "slideshow": {
     "slide_type": "slide"
    }
   },
   "source": [
    "#### Hypothesis 2: Sleeping at night"
   ]
  },
  {
   "cell_type": "code",
   "execution_count": 11,
   "metadata": {
    "slideshow": {
     "slide_type": "-"
    }
   },
   "outputs": [
    {
     "data": {
      "text/html": [
       "<div>\n",
       "<style scoped>\n",
       "    .dataframe tbody tr th:only-of-type {\n",
       "        vertical-align: middle;\n",
       "    }\n",
       "\n",
       "    .dataframe tbody tr th {\n",
       "        vertical-align: top;\n",
       "    }\n",
       "\n",
       "    .dataframe thead th {\n",
       "        text-align: right;\n",
       "    }\n",
       "</style>\n",
       "<table border=\"1\" class=\"dataframe\">\n",
       "  <thead>\n",
       "    <tr style=\"text-align: right;\">\n",
       "      <th></th>\n",
       "      <th>Caller</th>\n",
       "      <th>Callee</th>\n",
       "      <th>Event</th>\n",
       "      <th>Start</th>\n",
       "      <th>TowerID</th>\n",
       "      <th>TowerLat</th>\n",
       "      <th>TowerLon</th>\n",
       "      <th>DoW</th>\n",
       "      <th>hour</th>\n",
       "    </tr>\n",
       "  </thead>\n",
       "  <tbody>\n",
       "    <tr>\n",
       "      <th>0</th>\n",
       "      <td>4638472273</td>\n",
       "      <td>2666307251</td>\n",
       "      <td>Incoming</td>\n",
       "      <td>2010-12-25 07:16:24.736813</td>\n",
       "      <td>0db53dd3</td>\n",
       "      <td>32.731611</td>\n",
       "      <td>-96.709417</td>\n",
       "      <td>Saturday</td>\n",
       "      <td>7</td>\n",
       "    </tr>\n",
       "    <tr>\n",
       "      <th>1</th>\n",
       "      <td>4638472273</td>\n",
       "      <td>1755442610</td>\n",
       "      <td>Incoming</td>\n",
       "      <td>2010-12-25 21:18:30.053710</td>\n",
       "      <td>aeaf8b43</td>\n",
       "      <td>32.731722</td>\n",
       "      <td>-96.709500</td>\n",
       "      <td>Saturday</td>\n",
       "      <td>21</td>\n",
       "    </tr>\n",
       "    <tr>\n",
       "      <th>2</th>\n",
       "      <td>4638472273</td>\n",
       "      <td>5481755331</td>\n",
       "      <td>Incoming</td>\n",
       "      <td>2010-12-25 14:52:42.878016</td>\n",
       "      <td>fadaa83f</td>\n",
       "      <td>32.899944</td>\n",
       "      <td>-96.910389</td>\n",
       "      <td>Saturday</td>\n",
       "      <td>14</td>\n",
       "    </tr>\n",
       "    <tr>\n",
       "      <th>3</th>\n",
       "      <td>4638472273</td>\n",
       "      <td>1755442610</td>\n",
       "      <td>Incoming</td>\n",
       "      <td>2010-12-25 16:02:09.001913</td>\n",
       "      <td>fadaa83f</td>\n",
       "      <td>32.899944</td>\n",
       "      <td>-96.910389</td>\n",
       "      <td>Saturday</td>\n",
       "      <td>16</td>\n",
       "    </tr>\n",
       "    <tr>\n",
       "      <th>4</th>\n",
       "      <td>4638472273</td>\n",
       "      <td>2145623768</td>\n",
       "      <td>Incoming</td>\n",
       "      <td>2010-12-25 15:28:35.028554</td>\n",
       "      <td>95d7920d</td>\n",
       "      <td>32.899944</td>\n",
       "      <td>-96.910389</td>\n",
       "      <td>Saturday</td>\n",
       "      <td>15</td>\n",
       "    </tr>\n",
       "  </tbody>\n",
       "</table>\n",
       "</div>"
      ],
      "text/plain": [
       "       Caller      Callee     Event                      Start   TowerID  \\\n",
       "0  4638472273  2666307251  Incoming 2010-12-25 07:16:24.736813  0db53dd3   \n",
       "1  4638472273  1755442610  Incoming 2010-12-25 21:18:30.053710  aeaf8b43   \n",
       "2  4638472273  5481755331  Incoming 2010-12-25 14:52:42.878016  fadaa83f   \n",
       "3  4638472273  1755442610  Incoming 2010-12-25 16:02:09.001913  fadaa83f   \n",
       "4  4638472273  2145623768  Incoming 2010-12-25 15:28:35.028554  95d7920d   \n",
       "\n",
       "    TowerLat   TowerLon       DoW  hour  \n",
       "0  32.731611 -96.709417  Saturday     7  \n",
       "1  32.731722 -96.709500  Saturday    21  \n",
       "2  32.899944 -96.910389  Saturday    14  \n",
       "3  32.899944 -96.910389  Saturday    16  \n",
       "4  32.899944 -96.910389  Saturday    15  "
      ]
     },
     "execution_count": 11,
     "metadata": {},
     "output_type": "execute_result"
    }
   ],
   "source": [
    "suspect_on_weekend['hour'] = suspect_on_weekend['Start'].dt.hour\n",
    "suspect_on_weekend.head()"
   ]
  },
  {
   "cell_type": "markdown",
   "metadata": {
    "slideshow": {
     "slide_type": "slide"
    }
   },
   "source": [
    "Keep only the sleeping hours"
   ]
  },
  {
   "cell_type": "code",
   "execution_count": 12,
   "metadata": {
    "slideshow": {
     "slide_type": "-"
    }
   },
   "outputs": [
    {
     "data": {
      "text/html": [
       "<div>\n",
       "<style scoped>\n",
       "    .dataframe tbody tr th:only-of-type {\n",
       "        vertical-align: middle;\n",
       "    }\n",
       "\n",
       "    .dataframe tbody tr th {\n",
       "        vertical-align: top;\n",
       "    }\n",
       "\n",
       "    .dataframe thead th {\n",
       "        text-align: right;\n",
       "    }\n",
       "</style>\n",
       "<table border=\"1\" class=\"dataframe\">\n",
       "  <thead>\n",
       "    <tr style=\"text-align: right;\">\n",
       "      <th></th>\n",
       "      <th>Caller</th>\n",
       "      <th>Callee</th>\n",
       "      <th>Event</th>\n",
       "      <th>Start</th>\n",
       "      <th>TowerID</th>\n",
       "      <th>TowerLat</th>\n",
       "      <th>TowerLon</th>\n",
       "      <th>DoW</th>\n",
       "      <th>hour</th>\n",
       "    </tr>\n",
       "  </thead>\n",
       "  <tbody>\n",
       "    <tr>\n",
       "      <th>7468</th>\n",
       "      <td>4638472273</td>\n",
       "      <td>7756914135</td>\n",
       "      <td>Incoming</td>\n",
       "      <td>2011-04-17 05:15:40.205917</td>\n",
       "      <td>cd9f3b1a</td>\n",
       "      <td>32.731722</td>\n",
       "      <td>-96.709500</td>\n",
       "      <td>Sunday</td>\n",
       "      <td>5</td>\n",
       "    </tr>\n",
       "    <tr>\n",
       "      <th>9753</th>\n",
       "      <td>4638472273</td>\n",
       "      <td>7922223441</td>\n",
       "      <td>Incoming</td>\n",
       "      <td>2011-05-21 05:08:20.121145</td>\n",
       "      <td>0db53dd3</td>\n",
       "      <td>32.731611</td>\n",
       "      <td>-96.709417</td>\n",
       "      <td>Saturday</td>\n",
       "      <td>5</td>\n",
       "    </tr>\n",
       "    <tr>\n",
       "      <th>17515</th>\n",
       "      <td>4638472273</td>\n",
       "      <td>2666307251</td>\n",
       "      <td>Incoming</td>\n",
       "      <td>2011-09-11 05:44:15.432523</td>\n",
       "      <td>bcec0121</td>\n",
       "      <td>32.731611</td>\n",
       "      <td>-96.709417</td>\n",
       "      <td>Sunday</td>\n",
       "      <td>5</td>\n",
       "    </tr>\n",
       "    <tr>\n",
       "      <th>31973</th>\n",
       "      <td>4638472273</td>\n",
       "      <td>1755442610</td>\n",
       "      <td>Incoming</td>\n",
       "      <td>2012-04-14 05:42:32.004437</td>\n",
       "      <td>d760c426</td>\n",
       "      <td>32.731611</td>\n",
       "      <td>-96.709417</td>\n",
       "      <td>Saturday</td>\n",
       "      <td>5</td>\n",
       "    </tr>\n",
       "    <tr>\n",
       "      <th>32604</th>\n",
       "      <td>4638472273</td>\n",
       "      <td>7922223441</td>\n",
       "      <td>Incoming</td>\n",
       "      <td>2012-04-22 05:02:55.678110</td>\n",
       "      <td>8ba7e0d7</td>\n",
       "      <td>32.731611</td>\n",
       "      <td>-96.709417</td>\n",
       "      <td>Sunday</td>\n",
       "      <td>5</td>\n",
       "    </tr>\n",
       "  </tbody>\n",
       "</table>\n",
       "</div>"
      ],
      "text/plain": [
       "           Caller      Callee     Event                      Start   TowerID  \\\n",
       "7468   4638472273  7756914135  Incoming 2011-04-17 05:15:40.205917  cd9f3b1a   \n",
       "9753   4638472273  7922223441  Incoming 2011-05-21 05:08:20.121145  0db53dd3   \n",
       "17515  4638472273  2666307251  Incoming 2011-09-11 05:44:15.432523  bcec0121   \n",
       "31973  4638472273  1755442610  Incoming 2012-04-14 05:42:32.004437  d760c426   \n",
       "32604  4638472273  7922223441  Incoming 2012-04-22 05:02:55.678110  8ba7e0d7   \n",
       "\n",
       "        TowerLat   TowerLon       DoW  hour  \n",
       "7468   32.731722 -96.709500    Sunday     5  \n",
       "9753   32.731611 -96.709417  Saturday     5  \n",
       "17515  32.731611 -96.709417    Sunday     5  \n",
       "31973  32.731611 -96.709417  Saturday     5  \n",
       "32604  32.731611 -96.709417    Sunday     5  "
      ]
     },
     "execution_count": 12,
     "metadata": {},
     "output_type": "execute_result"
    }
   ],
   "source": [
    "suspect_on_weekend_nights = suspect_on_weekend[\n",
    "    (suspect_on_weekend['hour'] < 6)  | (suspect_on_weekend['hour'] > 22)]\n",
    "suspect_on_weekend_nights.head()"
   ]
  },
  {
   "cell_type": "markdown",
   "metadata": {
    "slideshow": {
     "slide_type": "slide"
    }
   },
   "source": [
    "Let's see where the suspect sleeps on weekends"
   ]
  },
  {
   "cell_type": "code",
   "execution_count": 13,
   "metadata": {
    "slideshow": {
     "slide_type": "-"
    }
   },
   "outputs": [
    {
     "data": {
      "image/png": "[encoded data removed]",
      "text/plain": [
       "<Figure size 432x288 with 1 Axes>"
      ]
     },
     "metadata": {
      "image/png": {
       "height": 263,
       "width": 414
      },
      "needs_background": "light"
     },
     "output_type": "display_data"
    }
   ],
   "source": [
    "ax = suspect_on_weekend_nights.plot.scatter('TowerLat', 'TowerLon');"
   ]
  },
  {
   "cell_type": "markdown",
   "metadata": {
    "slideshow": {
     "slide_type": "slide"
    }
   },
   "source": [
    "#### Clustering\n",
    "* Cell phones connect to various towers over time\n",
    "* Therefore: Find the main center of sleeping activities"
   ]
  },
  {
   "cell_type": "code",
   "execution_count": 14,
   "metadata": {
    "slideshow": {
     "slide_type": "-"
    }
   },
   "outputs": [
    {
     "data": {
      "text/plain": [
       "array([[ 32.7316665, -96.7094585]])"
      ]
     },
     "execution_count": 14,
     "metadata": {},
     "output_type": "execute_result"
    }
   ],
   "source": [
    "from sklearn.cluster import KMeans\n",
    "\n",
    "kmeans = KMeans(n_clusters = 1)\n",
    "data = suspect_on_weekend_nights[['TowerLat', 'TowerLon']]\n",
    "kmeans.fit_predict(data)\n",
    "centroids = kmeans.cluster_centers_\n",
    "centroids"
   ]
  },
  {
   "cell_type": "markdown",
   "metadata": {
    "slideshow": {
     "slide_type": "slide"
    }
   },
   "source": [
    "Let's plot the main center of sleeping activity"
   ]
  },
  {
   "cell_type": "code",
   "execution_count": 15,
   "metadata": {
    "slideshow": {
     "slide_type": "-"
    }
   },
   "outputs": [
    {
     "data": {
      "image/png": "[encoded data removed]",
      "text/plain": [
       "<Figure size 432x288 with 1 Axes>"
      ]
     },
     "execution_count": 15,
     "metadata": {
      "image/png": {
       "height": 263,
       "width": 414
      }
     },
     "output_type": "execute_result"
    }
   ],
   "source": [
    "ax.scatter(x = centroids[:, 0], y = centroids[:, 1], c = 'r', marker = 'x').figure"
   ]
  },
  {
   "cell_type": "markdown",
   "metadata": {
    "slideshow": {
     "slide_type": "slide"
    }
   },
   "source": [
    "## Results\n",
    "Let's check the result in Google Maps!"
   ]
  },
  {
   "cell_type": "code",
   "execution_count": 16,
   "metadata": {
    "slideshow": {
     "slide_type": "-"
    }
   },
   "outputs": [
    {
     "name": "stdout",
     "output_type": "stream",
     "text": [
      "https://www.google.com/maps/search/?api=1&query=32.7316665,-96.70945850000001\n"
     ]
    }
   ],
   "source": [
    "print(\"https://www.google.com/maps/search/?api=1&query={},{}\".format(centroids[0][0], centroids[0][1]))"
   ]
  },
  {
   "cell_type": "markdown",
   "metadata": {
    "slideshow": {
     "slide_type": "slide"
    }
   },
   "source": [
    "## Discussion: How realistic do you think is this kind of investigation?"
   ]
  },
  {
   "cell_type": "markdown",
   "metadata": {
    "slideshow": {
     "slide_type": "fragment"
    }
   },
   "source": [
    "<div align=\"center\"><img src=\"resources/switch_news.png\" width=\"70%\" /></div>\n",
    "\n",
    "<small>https://gonintendo.com/stories/351366-switch-leads-to-break-in-murder-case</small>"
   ]
  },
  {
   "cell_type": "markdown",
   "metadata": {
    "slideshow": {
     "slide_type": "slide"
    }
   },
   "source": [
    "## Thanks!\n",
    "\n",
    "Any questions?\n",
    "\n",
    "<br/>\n",
    "  \n",
    "<b>Contact</b>\n",
    "\n",
    "Markus Harrer  \n",
    "  \n",
    "markus.harrer@innoq.com  \n",
    "`@feststelltaste`  \n",
    "https://feststelltaste.de\n",
    "\n",
    "<img src=\"resources/innoq_logo.jpg\" width=20% height=\"20%\" align=\"right\"/>"
   ]
  },
  {
   "cell_type": "markdown",
   "metadata": {
    "slideshow": {
     "slide_type": "slide"
    }
   },
   "source": [
    "## Appendix: Tools used\n",
    "- Jupyter Notebook\n",
    "- Python\n",
    "- pandas\n",
    "- matplotlib\n",
    "- scikit-learn"
   ]
  },
  {
   "cell_type": "markdown",
   "metadata": {
    "slideshow": {
     "slide_type": "slide"
    }
   },
   "source": [
    "## Appendix: Getting started\n",
    "My recommendations\n",
    "\n",
    "1. https://www.feststelltaste.de/top5-jupyter/\n",
    "1. https://www.feststelltaste.de/top5-python/\n",
    "1. https://www.feststelltaste.de/top5-pandas/    "
   ]
  },
  {
   "cell_type": "markdown",
   "metadata": {
    "slideshow": {
     "slide_type": "slide"
    }
   },
   "source": [
    "## Appendix: Credits\n",
    "\n",
    "This presentation is based on data and ideas from the online course \"Programming with Python for Data Science\": https://www.edx.org/course/programming-with-python-for-data-science"
   ]
  }
 ],
 "metadata": {
  "celltoolbar": "Slideshow",
  "kernelspec": {
   "display_name": "Python 3",
   "language": "python",
   "name": "python3"
  },
  "language_info": {
   "codemirror_mode": {
    "name": "ipython",
    "version": 3
   },
   "file_extension": ".py",
   "mimetype": "text/x-python",
   "name": "python",
   "nbconvert_exporter": "python",
   "pygments_lexer": "ipython3",
   "version": "3.6.4"
  },
  "rise": {
   "controls": false,
   "showSlideNumber": "speaker",
   "slideNumber ": "false",
   "transition": "none"
  }
 },
 "nbformat": 4,
 "nbformat_minor": 2
}
