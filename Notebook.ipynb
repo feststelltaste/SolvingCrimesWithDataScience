{
 "cells": [
  {
   "cell_type": "markdown",
   "metadata": {
    "slideshow": {
     "slide_type": "slide"
    }
   },
   "source": [
    "# Solving Crimes with Data Science\n",
    "<br/>\n",
    "<br/>\n",
    "<br/>\n",
    "<br/>\n",
    "<br/>\n",
    "<b>Markus Harrer</b>\n",
    "  \n",
    "`@feststelltaste`\n",
    "\n",
    "\n",
    "<small>PyDay 1, 19. Dezember 2019</small>\n",
    "\n",
    "<img src=\"resources/innoq_logo.jpg\" width=20% height=\"20%\" align=\"right\"/>\n"
   ]
  },
  {
   "cell_type": "markdown",
   "metadata": {
    "slideshow": {
     "slide_type": "slide"
    }
   },
   "source": [
    "## Facts of the case\n",
    "1. A white mini bus with a red \"g\" sign on the side window was stolen\n",
    "1. Police did an innovative mobile phone investigation\n",
    "1. There is only phone number of unknown identity left\n",
    "\n",
    "Our approach: Where is the place of residence of the phone number's owner?"
   ]
  },
  {
   "cell_type": "markdown",
   "metadata": {
    "slideshow": {
     "slide_type": "slide"
    }
   },
   "source": [
    "## What do we have?\n",
    "\n",
    "CDRs (Call Data Records) in an Excel file!\n",
    "\n",
    "That means: Information about the cell towers used for the phone calls!\n",
    "\n"
   ]
  },
  {
   "cell_type": "markdown",
   "metadata": {
    "slideshow": {
     "slide_type": "slide"
    }
   },
   "source": [
    "## Import and Load\n",
    "Using pandas to read an Excel file into a Dataframe."
   ]
  },
  {
   "cell_type": "code",
   "execution_count": null,
   "metadata": {
    "slideshow": {
     "slide_type": "fragment"
    }
   },
   "outputs": [],
   "source": [
    "import pandas as pd\n",
    "cdr = pd.read_excel(\"cdr_data.xlsx\")\n",
    "cdr.head()"
   ]
  },
  {
   "cell_type": "markdown",
   "metadata": {
    "slideshow": {
     "slide_type": "slide"
    }
   },
   "source": [
    "Let's look into the dataset"
   ]
  },
  {
   "cell_type": "code",
   "execution_count": null,
   "metadata": {
    "slideshow": {
     "slide_type": "-"
    }
   },
   "outputs": [],
   "source": [
    "cdr.info()"
   ]
  },
  {
   "cell_type": "markdown",
   "metadata": {
    "slideshow": {
     "slide_type": "slide"
    }
   },
   "source": [
    "## Data Cleaning\n",
    "Convert the text in `Start` to a date data type"
   ]
  },
  {
   "cell_type": "code",
   "execution_count": null,
   "metadata": {
    "slideshow": {
     "slide_type": "-"
    }
   },
   "outputs": [],
   "source": [
    "cdr['Start'] = pd.to_datetime(cdr['Start'])\n",
    "cdr.head()"
   ]
  },
  {
   "cell_type": "markdown",
   "metadata": {
    "slideshow": {
     "slide_type": "slide"
    }
   },
   "source": [
    "## Filtering\n",
    "We know the suspect's phone number (4638472273). We also want to only keep the incoming calls (== `Caller`'s `TowerID`)."
   ]
  },
  {
   "cell_type": "code",
   "execution_count": null,
   "metadata": {
    "slideshow": {
     "slide_type": "-"
    }
   },
   "outputs": [],
   "source": [
    "suspect = cdr[cdr['Caller'] == 4638472273]\n",
    "suspect = suspect[suspect['Event'] == 'Incoming']\n",
    "suspect.head()"
   ]
  },
  {
   "cell_type": "markdown",
   "metadata": {
    "slideshow": {
     "slide_type": "slide"
    }
   },
   "source": [
    "## But...\n",
    "\n",
    "Unfortunately: Information about the tower's locations are missing!\n",
    "\n",
    "We need a second data source from the DARKNET!"
   ]
  },
  {
   "cell_type": "markdown",
   "metadata": {
    "slideshow": {
     "slide_type": "slide"
    }
   },
   "source": [
    "## Load another dataset\n",
    "This time: a CSV (comma separated values) file"
   ]
  },
  {
   "cell_type": "code",
   "execution_count": null,
   "metadata": {
    "slideshow": {
     "slide_type": "-"
    }
   },
   "outputs": [],
   "source": [
    "towers = pd.read_csv(\n",
    "    \"darknet.io/hacks/infrastructure/mobile_net/texas_towers.csv\",\n",
    "    index_col=0)\n",
    "towers.head()"
   ]
  },
  {
   "cell_type": "markdown",
   "metadata": {
    "slideshow": {
     "slide_type": "slide"
    }
   },
   "source": [
    "## Data Enrichment\n",
    "Bringing datasets together by joining them"
   ]
  },
  {
   "cell_type": "code",
   "execution_count": null,
   "metadata": {
    "slideshow": {
     "slide_type": "-"
    }
   },
   "outputs": [],
   "source": [
    "suspect_loc = suspect.join(towers, on='TowerID')\n",
    "suspect_loc.head()"
   ]
  },
  {
   "cell_type": "markdown",
   "metadata": {
    "slideshow": {
     "slide_type": "slide"
    }
   },
   "source": [
    "## Explore the datapoints\n",
    "Let's take a look at the locations"
   ]
  },
  {
   "cell_type": "code",
   "execution_count": null,
   "metadata": {
    "slideshow": {
     "slide_type": "-"
    }
   },
   "outputs": [],
   "source": [
    "%matplotlib inline\n",
    "suspect_loc.plot.scatter('TowerLon', \"TowerLat\");"
   ]
  },
  {
   "cell_type": "markdown",
   "metadata": {
    "slideshow": {
     "slide_type": "slide"
    }
   },
   "source": [
    "## Modeling\n",
    "Make some hypothesis about the suspect's home"
   ]
  },
  {
   "cell_type": "markdown",
   "metadata": {
    "slideshow": {
     "slide_type": "slide"
    }
   },
   "source": [
    "#### Hypothesis 1: Home at weekends"
   ]
  },
  {
   "cell_type": "code",
   "execution_count": null,
   "metadata": {
    "slideshow": {
     "slide_type": "-"
    }
   },
   "outputs": [],
   "source": [
    "suspect_loc['DoW'] = suspect_loc['Start'].dt.weekday_name\n",
    "suspect_loc.head()"
   ]
  },
  {
   "cell_type": "code",
   "execution_count": null,
   "metadata": {
    "slideshow": {
     "slide_type": "slide"
    }
   },
   "outputs": [],
   "source": [
    "suspect_on_weekend = suspect_loc[suspect_loc['DoW'].isin(['Saturday', 'Sunday'])].copy()\n",
    "suspect_on_weekend.head()"
   ]
  },
  {
   "cell_type": "markdown",
   "metadata": {
    "slideshow": {
     "slide_type": "slide"
    }
   },
   "source": [
    "Let's take a look at the weekend's locations"
   ]
  },
  {
   "cell_type": "code",
   "execution_count": null,
   "metadata": {
    "slideshow": {
     "slide_type": "-"
    }
   },
   "outputs": [],
   "source": [
    "suspect_on_weekend.plot.scatter('TowerLon', \"TowerLat\");"
   ]
  },
  {
   "cell_type": "markdown",
   "metadata": {
    "slideshow": {
     "slide_type": "slide"
    }
   },
   "source": [
    "#### Hypothesis 2: Sleeping at night"
   ]
  },
  {
   "cell_type": "code",
   "execution_count": null,
   "metadata": {
    "slideshow": {
     "slide_type": "-"
    }
   },
   "outputs": [],
   "source": [
    "suspect_on_weekend['hour'] = suspect_on_weekend['Start'].dt.hour\n",
    "suspect_on_weekend.head()"
   ]
  },
  {
   "cell_type": "markdown",
   "metadata": {
    "slideshow": {
     "slide_type": "slide"
    }
   },
   "source": [
    "Keep only the sleeping hours"
   ]
  },
  {
   "cell_type": "code",
   "execution_count": null,
   "metadata": {
    "slideshow": {
     "slide_type": "-"
    }
   },
   "outputs": [],
   "source": [
    "suspect_on_weekend_nights = suspect_on_weekend[\n",
    "    (suspect_on_weekend['hour'] < 6)  | (suspect_on_weekend['hour'] > 22)]\n",
    "suspect_on_weekend_nights.head()"
   ]
  },
  {
   "cell_type": "markdown",
   "metadata": {
    "slideshow": {
     "slide_type": "slide"
    }
   },
   "source": [
    "Let's see where the suspect sleeps on weekends"
   ]
  },
  {
   "cell_type": "code",
   "execution_count": null,
   "metadata": {
    "slideshow": {
     "slide_type": "-"
    }
   },
   "outputs": [],
   "source": [
    "ax = suspect_on_weekend_nights.plot.scatter('TowerLat', 'TowerLon');"
   ]
  },
  {
   "cell_type": "markdown",
   "metadata": {
    "slideshow": {
     "slide_type": "slide"
    }
   },
   "source": [
    "#### Clustering\n",
    "* Cell phones connect to various towers over time\n",
    "* Therefore: Find the main center of sleeping activities"
   ]
  },
  {
   "cell_type": "code",
   "execution_count": null,
   "metadata": {
    "slideshow": {
     "slide_type": "-"
    }
   },
   "outputs": [],
   "source": [
    "from sklearn.cluster import KMeans\n",
    "\n",
    "kmeans = KMeans(n_clusters = 1)\n",
    "data = suspect_on_weekend_nights[['TowerLat', 'TowerLon']]\n",
    "kmeans.fit_predict(data)\n",
    "centroids = kmeans.cluster_centers_\n",
    "centroids"
   ]
  },
  {
   "cell_type": "markdown",
   "metadata": {
    "slideshow": {
     "slide_type": "slide"
    }
   },
   "source": [
    "Let's plot the main center of sleeping activity"
   ]
  },
  {
   "cell_type": "code",
   "execution_count": null,
   "metadata": {
    "slideshow": {
     "slide_type": "-"
    }
   },
   "outputs": [],
   "source": [
    "ax.scatter(x = centroids[:, 0], y = centroids[:, 1], c = 'r', marker = 'x').figure"
   ]
  },
  {
   "cell_type": "markdown",
   "metadata": {
    "slideshow": {
     "slide_type": "slide"
    }
   },
   "source": [
    "## Results\n",
    "Let's check the result in Google Maps!"
   ]
  },
  {
   "cell_type": "code",
   "execution_count": null,
   "metadata": {
    "slideshow": {
     "slide_type": "-"
    }
   },
   "outputs": [],
   "source": [
    "print(\"https://www.google.com/maps/search/?api=1&query={},{}\".format(centroids[0][0], centroids[0][1]))"
   ]
  },
  {
   "cell_type": "markdown",
   "metadata": {
    "slideshow": {
     "slide_type": "slide"
    }
   },
   "source": [
    "## Discussion: How realistic do you think is this kind of investigation?"
   ]
  },
  {
   "cell_type": "markdown",
   "metadata": {
    "slideshow": {
     "slide_type": "fragment"
    }
   },
   "source": [
    "<div align=\"center\"><img src=\"resources/switch_news.png\" width=\"70%\" /></div>\n",
    "\n",
    "<small>https://gonintendo.com/stories/351366-switch-leads-to-break-in-murder-case</small>"
   ]
  },
  {
   "cell_type": "markdown",
   "metadata": {
    "slideshow": {
     "slide_type": "slide"
    }
   },
   "source": [
    "## Thanks!\n",
    "\n",
    "Any questions?\n",
    "\n",
    "<br/>\n",
    "  \n",
    "<b>Contact</b>\n",
    "\n",
    "Markus Harrer  \n",
    "  \n",
    "markus.harrer@innoq.com  \n",
    "`@feststelltaste`  \n",
    "https://feststelltaste.de\n",
    "\n",
    "<img src=\"resources/innoq_logo.jpg\" width=20% height=\"20%\" align=\"right\"/>"
   ]
  },
  {
   "cell_type": "markdown",
   "metadata": {
    "slideshow": {
     "slide_type": "slide"
    }
   },
   "source": [
    "## Appendix: Tools used\n",
    "- Jupyter Notebook\n",
    "- Python\n",
    "- pandas\n",
    "- matplotlib\n",
    "- scikit-learn"
   ]
  },
  {
   "cell_type": "markdown",
   "metadata": {
    "slideshow": {
     "slide_type": "slide"
    }
   },
   "source": [
    "## Appendix: Getting started\n",
    "My recommendations\n",
    "\n",
    "1. https://www.feststelltaste.de/top5-jupyter/\n",
    "1. https://www.feststelltaste.de/top5-python/\n",
    "1. https://www.feststelltaste.de/top5-pandas/    "
   ]
  },
  {
   "cell_type": "markdown",
   "metadata": {
    "slideshow": {
     "slide_type": "slide"
    }
   },
   "source": [
    "## Appendix: Credits\n",
    "\n",
    "This presentation is based on data and ideas from the online course \"Programming with Python for Data Science\": https://www.edx.org/course/programming-with-python-for-data-science"
   ]
  },
  {
   "cell_type": "markdown",
   "metadata": {
    "slideshow": {
     "slide_type": "slide"
    }
   },
   "source": [
    "## Appendix: Run this notebook\n",
    "\n",
    "GitHub-Repository: https://github.com/feststelltaste/SolvingCrimesWithDataScience\n",
    "\n",
    "<img src=\"resources/qrcode.png\" />"
   ]
  }
 ],
 "metadata": {
  "celltoolbar": "Slideshow",
  "kernelspec": {
   "display_name": "Python 3",
   "language": "python",
   "name": "python3"
  },
  "language_info": {
   "codemirror_mode": {
    "name": "ipython",
    "version": 3
   },
   "file_extension": ".py",
   "mimetype": "text/x-python",
   "name": "python",
   "nbconvert_exporter": "python",
   "pygments_lexer": "ipython3",
   "version": "3.6.4"
  },
  "rise": {
   "controls": false,
   "showSlideNumber": "speaker",
   "slideNumber ": "false",
   "transition": "none"
  }
 },
 "nbformat": 4,
 "nbformat_minor": 2
}
